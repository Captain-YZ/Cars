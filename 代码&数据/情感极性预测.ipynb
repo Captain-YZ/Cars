{
 "cells": [
  {
   "cell_type": "code",
   "execution_count": null,
   "id": "e52287d1",
   "metadata": {},
   "outputs": [],
   "source": [
    "import pandas as pd\n",
    "import jieba\n",
    "from sklearn.model_selection import train_test_split\n",
    "from sklearn.feature_extraction.text import TfidfVectorizer\n",
    "from sklearn.linear_model import LogisticRegression\n",
    "from sklearn.svm import LinearSVC\n",
    "from sklearn.metrics import classification_report, confusion_matrix\n",
    "import matplotlib.pyplot as plt\n",
    "import seaborn as sns\n"
   ]
  },
  {
   "cell_type": "code",
   "execution_count": null,
   "id": "ca68225a",
   "metadata": {},
   "outputs": [
    {
     "name": "stdout",
     "output_type": "stream",
     "text": [
      "                                     Cleaned_Comment\n",
      "0  车长 接近 5m 空间 前排 空间 很大 后排 腿部 空间 设计 头顶 空间 偏小 185 ...\n",
      "1  空间 算是 劣势 毕竟 车子 整体 难搞 第二排 储物 空间 只有 后备箱 前面 挤出来 前...\n",
      "2  这辆 内部空间 其实 外部 尺寸 比例 这么 这辆 长度 达到 米左右 车内 腿部 空间 想...\n",
      "3  很多 后排 空间 实际上 不小 除非 一米 八五 身高 足够 起步 很快 方向 灵敏 好开 ...\n",
      "4  内部 空间设计 其实 不错 车内 储物 能力 中控 扶手 下面 还有 空旷 位置 前备 后排...\n"
     ]
    }
   ],
   "source": [
    "import pandas as pd\n",
    "import jieba\n",
    "\n",
    "# 🔹 1. 读取数据\n",
    "data = pd.read_excel(r\"二手汽车口碑.xlsx\")\n",
    "\n",
    "# 🔹 2. 指定你需要处理的列\n",
    "columns_to_process = ['空间', '驾驶感受', '操控', '续航', '舒适性', '外观', '内饰', '性价比', '智能化']\n",
    "\n",
    "# 🔹 3. 读取停用词和汽车词汇\n",
    "with open(r\"stopped_words.txt\", 'r', encoding='utf-8') as f:\n",
    "    stopwords = set(f.read().splitlines())\n",
    "\n",
    "with open(r\"汽车词汇词库.txt\", 'r', encoding='utf-8') as f:\n",
    "    car_terms = set(f.read().splitlines())\n",
    "\n",
    "# 🔹 4. 文本清洗函数：拼接多个维度评论 -> 分词 -> 去停用词 -> 筛选汽车词汇/长度>1\n",
    "def clean_and_tokenize_row(row):\n",
    "    combined_text = ' '.join(str(row[col]) for col in columns_to_process if pd.notna(row[col]))\n",
    "    words = jieba.lcut(combined_text)\n",
    "    words = [word for word in words if word not in stopwords]\n",
    "    words = [word for word in words if word in car_terms or len(word) > 1]\n",
    "    return ' '.join(words)\n",
    "\n",
    "# 🔹 5. 应用处理函数，生成新列\n",
    "data['Cleaned_Comment'] = data.apply(clean_and_tokenize_row, axis=1)\n",
    "\n",
    "# 🔹 6. 查看前几行结果\n",
    "print(data[['Cleaned_Comment']].head())\n",
    "# 🔹 7. 覆盖原文件\n",
    "data.to_excel(r\"二手汽车口碑.xlsx\", index=False)\n"
   ]
  },
  {
   "cell_type": "code",
   "execution_count": null,
   "id": "9c738a68",
   "metadata": {},
   "outputs": [],
   "source": [
    "# 🔹 4. 划分数据集\n",
    "X = data['Cleaned_Comment']\n",
    "y = data['Sentiment']\n",
    "# 这是它有一部分自带的标签，但是其他的没有，所以需要再预测\n",
    "\n",
    "X_train, X_test, y_train, y_test = train_test_split(X, y, test_size=0.2, random_state=42, stratify=y)\n",
    "\n",
    "# 🔹 5. 特征提取：TF-IDF\n",
    "vectorizer = TfidfVectorizer(ngram_range=(1, 2), max_features=10000)\n",
    "X_train_tfidf = vectorizer.fit_transform(X_train)\n",
    "X_test_tfidf = vectorizer.transform(X_test)\n"
   ]
  },
  {
   "cell_type": "code",
   "execution_count": null,
   "id": "9582b0c6",
   "metadata": {},
   "outputs": [
    {
     "name": "stdout",
     "output_type": "stream",
     "text": [
      "前5条预测结果如下：\n",
      "                                          clean_comment     Predicted  \\\n",
      "8188  台车 空间 很大 毕竟 中型 SUV 宽敞 车子 动力 充足 加速 很快 避震 效果 隔音 ...  non-positive   \n",
      "298   空间 很大 后备箱 很能 后排 座椅 空间设计 利用率 还有 前备 使用 频率 车头 驾驶 ...  non-positive   \n",
      "9140  空间 第三排 座椅 放平 放平 后备箱 空间 扩展 能装 第三排 空间 相对 两排 空间 一...      positive   \n",
      "3199  毕竟 轴距 车身 尺寸 摆在 那里 空间 充裕 保证 每个 舒适 乘坐 空间 前排 驾驶 空...      positive   \n",
      "1572  乘坐 空间 不错 这么 身材 驾驶座 宽宽松松 后排 体验 身材 坐三人 有点 拥挤 乘坐 ...      positive   \n",
      "\n",
      "      Positive_Score  Negative_Score  \n",
      "8188        0.451032        0.548968  \n",
      "298         0.449290        0.550710  \n",
      "9140        0.702258        0.297742  \n",
      "3199        0.614279        0.385721  \n",
      "1572        0.532724        0.467276  \n"
     ]
    }
   ],
   "source": [
    "# 假设 X_test 是一个包含 clean_comment 的 Series 或 DataFrame\n",
    "# 如果你之前使用的是 Series，可以这样转成 DataFrame，并命名列\n",
    "X_test_df = X_test.to_frame(name='clean_comment')\n",
    "\n",
    "# 训练模型\n",
    "model = LogisticRegression(max_iter=1000)\n",
    "model.fit(X_train_tfidf, y_train)\n",
    "\n",
    "# 预测\n",
    "y_pred = model.predict(X_test_tfidf)\n",
    "y_pred_proba = model.predict_proba(X_test_tfidf)\n",
    "\n",
    "# 构建包含 clean_comment 和预测信息的 DataFrame\n",
    "results = X_test_df.copy()\n",
    "results['Predicted'] = y_pred\n",
    "results['Positive_Score'] = y_pred_proba[:, 1]\n",
    "results['Negative_Score'] = y_pred_proba[:, 0]\n",
    "\n",
    "# 保存为 Excel 文件\n",
    "output_path = '简化情感预测结果.xlsx'\n",
    "results.to_excel(output_path, index=False)\n",
    "\n",
    "# 打印前 5 行\n",
    "print(\"前5条预测结果如下：\")\n",
    "print(results.head())\n"
   ]
  }
 ],
 "metadata": {
  "kernelspec": {
   "display_name": "base",
   "language": "python",
   "name": "python3"
  },
  "language_info": {
   "codemirror_mode": {
    "name": "ipython",
    "version": 3
   },
   "file_extension": ".py",
   "mimetype": "text/x-python",
   "name": "python",
   "nbconvert_exporter": "python",
   "pygments_lexer": "ipython3",
   "version": "3.12.7"
  }
 },
 "nbformat": 4,
 "nbformat_minor": 5
}
